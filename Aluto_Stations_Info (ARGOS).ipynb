{
 "cells": [
  {
   "cell_type": "markdown",
   "id": "62825b6d",
   "metadata": {},
   "source": [
    "## Aluto_Stations_Info (ARGOS)\n",
    "This is an info for the stations deployed in Alutu during 2012-2014 period by the Alutu Research and Geophysical Observations (ARGOS)"
   ]
  },
  {
   "cell_type": "code",
   "execution_count": 1,
   "id": "43a3fde5",
   "metadata": {},
   "outputs": [],
   "source": [
    "# Importing modules \n",
    "import numpy as np\n",
    "import matplotlib as plt\n",
    "import obspy\n",
    "from obspy.core import read\n",
    "from obspy.clients.fdsn import Client\n",
    "from obspy import UTCDateTime\n",
    "from obspy import read_inventory\n",
    "from obspy.geodetics import locations2degrees"
   ]
  },
  {
   "cell_type": "code",
   "execution_count": 2,
   "id": "3f438777",
   "metadata": {},
   "outputs": [
    {
     "name": "stdout",
     "output_type": "stream",
     "text": [
      "FDSN Webservice Client (base url: http://service.iris.edu)\n",
      "Available Services: 'dataselect' (v1.1.9), 'event' (v1.1.13), 'station' (v1.1.52), 'available_event_catalogs', 'available_event_contributors'\n",
      "\n",
      "Use e.g. client.help('dataselect') for the\n",
      "parameter description of the individual services\n",
      "or client.help() for parameter description of\n",
      "all webservices.\n"
     ]
    }
   ],
   "source": [
    "# Web services\n",
    "client = Client(\"IRIS\")\n",
    "print(client)"
   ]
  },
  {
   "cell_type": "code",
   "execution_count": 3,
   "id": "525e5f53",
   "metadata": {
    "scrolled": false
   },
   "outputs": [
    {
     "name": "stdout",
     "output_type": "stream",
     "text": [
      "Inventory created at 2023-02-21T10:42:47.775500Z\n",
      "\tCreated by: IRIS WEB SERVICE: fdsnws-station | version: 1.1.52\n",
      "\t\t    http://service.iris.edu/fdsnws/station/1/query?starttime=2012-01-...\n",
      "\tSending institution: IRIS-DMC (IRIS-DMC)\n",
      "\tContains:\n",
      "\t\tNetworks (1):\n",
      "\t\t\tXM\n",
      "\t\tStations (14):\n",
      "\t\t\tXM.A01E (Husains House)\n",
      "\t\t\tXM.A02E (Abaye Deneba Office)\n",
      "\t\t\tXM.A03E (Western Caldera Rim)\n",
      "\t\t\tXM.A04E (Jeele Forke School)\n",
      "\t\t\tXM.A05E (Golba Alutu Station)\n",
      "\t\t\tXM.A06E (Central Plain)\n",
      "\t\t\tXM.A07E (Geothermal Camp Langano)\n",
      "\t\t\tXM.A08E (Haroresse Kelbo)\n",
      "\t\t\tXM.A09E (Well LA5)\n",
      "\t\t\tXM.A10E (Well LA8)\n",
      "\t\t\tXM.A11E (Harowa Alutu School)\n",
      "\t\t\tXM.A12E (Badaso Sheffes House)\n",
      "\t\t\tXM.A13E (Chefe Jila School)\n",
      "\t\t\tXM.A14E (Siraj Tujis House)\n",
      "\t\tChannels (0):\n",
      "\n"
     ]
    }
   ],
   "source": [
    "# Number of station in Aluto\n",
    "# 2012-01-09T00:00:00|2014-01-28T23:59:59 is the starttime and endtime of the instrument deployment\n",
    "starttime = UTCDateTime(\"2012-01-09T00:00:00.000\")\n",
    "endtime = UTCDateTime(\"2014-01-28T23:59:59.599999\")\n",
    "inventory = client.get_stations(network=\"XM\", station=\"A01E,A02E,A03E,A04E,A05E,A06E,A07E,A08E,A09E,A10E,A11E,A12E,A13E,A14E\", starttime=starttime, endtime=endtime)\n",
    "print(inventory)"
   ]
  },
  {
   "cell_type": "code",
   "execution_count": 5,
   "id": "588da0bb",
   "metadata": {},
   "outputs": [
    {
     "name": "stdout",
     "output_type": "stream",
     "text": [
      "33 Trace(s) in Stream:\n",
      "XM.A01E..HHE | 2012-01-20T00:00:00.000000Z - 2012-01-20T01:00:00.000000Z | 100.0 Hz, 360001 samples\n",
      "XM.A01E..HHN | 2012-01-20T00:00:00.000000Z - 2012-01-20T01:00:00.000000Z | 100.0 Hz, 360001 samples\n",
      "XM.A01E..HHZ | 2012-01-20T00:00:00.000000Z - 2012-01-20T01:00:00.000000Z | 100.0 Hz, 360001 samples\n",
      "XM.A02E..HHE | 2012-01-20T00:00:00.000000Z - 2012-01-20T01:00:00.000000Z | 100.0 Hz, 360001 samples\n",
      "XM.A02E..HHN | 2012-01-20T00:00:00.000000Z - 2012-01-20T01:00:00.000000Z | 100.0 Hz, 360001 samples\n",
      "XM.A02E..HHZ | 2012-01-20T00:00:00.000000Z - 2012-01-20T01:00:00.000000Z | 100.0 Hz, 360001 samples\n",
      "XM.A03E..HHE | 2012-01-20T00:00:00.000000Z - 2012-01-20T01:00:00.000000Z | 100.0 Hz, 360001 samples\n",
      "XM.A03E..HHN | 2012-01-20T00:00:00.000000Z - 2012-01-20T01:00:00.000000Z | 100.0 Hz, 360001 samples\n",
      "XM.A03E..HHZ | 2012-01-20T00:00:00.000000Z - 2012-01-20T01:00:00.000000Z | 100.0 Hz, 360001 samples\n",
      "XM.A05E..HHE | 2012-01-20T00:00:00.000000Z - 2012-01-20T01:00:00.000000Z | 100.0 Hz, 360001 samples\n",
      "XM.A05E..HHN | 2012-01-20T00:00:00.000000Z - 2012-01-20T01:00:00.000000Z | 100.0 Hz, 360001 samples\n",
      "XM.A05E..HHZ | 2012-01-20T00:00:00.000000Z - 2012-01-20T01:00:00.000000Z | 100.0 Hz, 360001 samples\n",
      "XM.A06E..HHE | 2012-01-20T00:00:00.000000Z - 2012-01-20T01:00:00.000000Z | 100.0 Hz, 360001 samples\n",
      "XM.A06E..HHN | 2012-01-20T00:00:00.000000Z - 2012-01-20T01:00:00.000000Z | 100.0 Hz, 360001 samples\n",
      "XM.A06E..HHZ | 2012-01-20T00:00:00.000000Z - 2012-01-20T01:00:00.000000Z | 100.0 Hz, 360001 samples\n",
      "XM.A07E..HHE | 2012-01-20T00:00:00.000000Z - 2012-01-20T01:00:00.000000Z | 100.0 Hz, 360001 samples\n",
      "XM.A07E..HHN | 2012-01-20T00:00:00.000000Z - 2012-01-20T01:00:00.000000Z | 100.0 Hz, 360001 samples\n",
      "XM.A07E..HHZ | 2012-01-20T00:00:00.000000Z - 2012-01-20T01:00:00.000000Z | 100.0 Hz, 360001 samples\n",
      "XM.A08E..HHE | 2012-01-20T00:00:00.000000Z - 2012-01-20T01:00:00.000000Z | 100.0 Hz, 360001 samples\n",
      "XM.A08E..HHN | 2012-01-20T00:00:00.000000Z - 2012-01-20T01:00:00.000000Z | 100.0 Hz, 360001 samples\n",
      "XM.A08E..HHZ | 2012-01-20T00:00:00.000000Z - 2012-01-20T01:00:00.000000Z | 100.0 Hz, 360001 samples\n",
      "XM.A09E..HHE | 2012-01-20T00:00:00.000000Z - 2012-01-20T01:00:00.000000Z | 100.0 Hz, 360001 samples\n",
      "XM.A09E..HHN | 2012-01-20T00:00:00.000000Z - 2012-01-20T01:00:00.000000Z | 100.0 Hz, 360001 samples\n",
      "XM.A09E..HHZ | 2012-01-20T00:00:00.000000Z - 2012-01-20T01:00:00.000000Z | 100.0 Hz, 360001 samples\n",
      "XM.A10E..HHE | 2012-01-20T00:00:00.000000Z - 2012-01-20T01:00:00.000000Z | 100.0 Hz, 360001 samples\n",
      "XM.A10E..HHN | 2012-01-20T00:00:00.000000Z - 2012-01-20T01:00:00.000000Z | 100.0 Hz, 360001 samples\n",
      "XM.A10E..HHZ | 2012-01-20T00:00:00.000000Z - 2012-01-20T01:00:00.000000Z | 100.0 Hz, 360001 samples\n",
      "XM.A11E..HHE | 2012-01-20T00:00:00.000000Z - 2012-01-20T01:00:00.000000Z | 100.0 Hz, 360001 samples\n",
      "XM.A11E..HHN | 2012-01-20T00:00:00.000000Z - 2012-01-20T01:00:00.000000Z | 100.0 Hz, 360001 samples\n",
      "XM.A11E..HHZ | 2012-01-20T00:00:00.000000Z - 2012-01-20T01:00:00.000000Z | 100.0 Hz, 360001 samples\n",
      "XM.A12E..HHE | 2012-01-20T00:00:00.000000Z - 2012-01-20T01:00:00.000000Z | 100.0 Hz, 360001 samples\n",
      "XM.A12E..HHN | 2012-01-20T00:00:00.000000Z - 2012-01-20T01:00:00.000000Z | 100.0 Hz, 360001 samples\n",
      "XM.A12E..HHZ | 2012-01-20T00:00:00.000000Z - 2012-01-20T01:00:00.000000Z | 100.0 Hz, 360001 samples\n"
     ]
    }
   ],
   "source": [
    "# Checking for operation at different time windows\n",
    "# Number of stations in the early 2012-01-20\n",
    "t = UTCDateTime(\"2012-01-20T00:00:00.000\")\n",
    "st = client.get_waveforms(\"XM\", \"A01E,A02E,A03E,A04E,A05E,A06E,A07E,A08E,A09E,A10E,A11E,A12E,A13E,A14E\", \"--\", \"HH*\", t, t + 60 * 60)\n",
    "print(st.__str__(extended=True))"
   ]
  },
  {
   "cell_type": "code",
   "execution_count": 7,
   "id": "0784d455",
   "metadata": {
    "scrolled": false
   },
   "outputs": [
    {
     "name": "stdout",
     "output_type": "stream",
     "text": [
      "33 Trace(s) in Stream:\n",
      "XM.A01E..HHE | 2013-01-20T00:00:00.000000Z - 2013-01-20T01:00:00.000000Z | 100.0 Hz, 360001 samples\n",
      "XM.A01E..HHN | 2013-01-20T00:00:00.000000Z - 2013-01-20T01:00:00.000000Z | 100.0 Hz, 360001 samples\n",
      "XM.A01E..HHZ | 2013-01-20T00:00:00.000000Z - 2013-01-20T01:00:00.000000Z | 100.0 Hz, 360001 samples\n",
      "XM.A02E..HHE | 2013-01-20T00:00:00.000000Z - 2013-01-20T01:00:00.000000Z | 100.0 Hz, 360001 samples\n",
      "XM.A02E..HHN | 2013-01-20T00:00:00.000000Z - 2013-01-20T01:00:00.000000Z | 100.0 Hz, 360001 samples\n",
      "XM.A02E..HHZ | 2013-01-20T00:00:00.000000Z - 2013-01-20T01:00:00.000000Z | 100.0 Hz, 360001 samples\n",
      "XM.A03E..HHE | 2013-01-20T00:00:00.000000Z - 2013-01-20T01:00:00.000000Z | 100.0 Hz, 360001 samples\n",
      "XM.A03E..HHN | 2013-01-20T00:00:00.000000Z - 2013-01-20T01:00:00.000000Z | 100.0 Hz, 360001 samples\n",
      "XM.A03E..HHZ | 2013-01-20T00:00:00.000000Z - 2013-01-20T01:00:00.000000Z | 100.0 Hz, 360001 samples\n",
      "XM.A04E..HHE | 2013-01-20T00:00:00.000000Z - 2013-01-20T01:00:00.000000Z | 100.0 Hz, 360001 samples\n",
      "XM.A04E..HHN | 2013-01-20T00:00:00.000000Z - 2013-01-20T01:00:00.000000Z | 100.0 Hz, 360001 samples\n",
      "XM.A04E..HHZ | 2013-01-20T00:00:00.000000Z - 2013-01-20T01:00:00.000000Z | 100.0 Hz, 360001 samples\n",
      "XM.A05E..HHE | 2013-01-20T00:00:00.000000Z - 2013-01-20T01:00:00.000000Z | 100.0 Hz, 360001 samples\n",
      "XM.A05E..HHN | 2013-01-20T00:00:00.000000Z - 2013-01-20T01:00:00.000000Z | 100.0 Hz, 360001 samples\n",
      "XM.A05E..HHZ | 2013-01-20T00:00:00.000000Z - 2013-01-20T01:00:00.000000Z | 100.0 Hz, 360001 samples\n",
      "XM.A07E..HHE | 2013-01-20T00:00:00.000000Z - 2013-01-20T01:00:00.000000Z | 100.0 Hz, 360001 samples\n",
      "XM.A07E..HHN | 2013-01-20T00:00:00.000000Z - 2013-01-20T01:00:00.000000Z | 100.0 Hz, 360001 samples\n",
      "XM.A07E..HHZ | 2013-01-20T00:00:00.000000Z - 2013-01-20T01:00:00.000000Z | 100.0 Hz, 360001 samples\n",
      "XM.A09E..HHE | 2013-01-20T00:00:00.000000Z - 2013-01-20T01:00:00.000000Z | 100.0 Hz, 360001 samples\n",
      "XM.A09E..HHN | 2013-01-20T00:00:00.000000Z - 2013-01-20T01:00:00.000000Z | 100.0 Hz, 360001 samples\n",
      "XM.A09E..HHZ | 2013-01-20T00:00:00.000000Z - 2013-01-20T01:00:00.000000Z | 100.0 Hz, 360001 samples\n",
      "XM.A10E..HHE | 2013-01-20T00:00:00.000000Z - 2013-01-20T01:00:00.000000Z | 100.0 Hz, 360001 samples\n",
      "XM.A10E..HHN | 2013-01-20T00:00:00.000000Z - 2013-01-20T01:00:00.000000Z | 100.0 Hz, 360001 samples\n",
      "XM.A10E..HHZ | 2013-01-20T00:00:00.000000Z - 2013-01-20T01:00:00.000000Z | 100.0 Hz, 360001 samples\n",
      "XM.A11E..HHE | 2013-01-20T00:00:00.000000Z - 2013-01-20T01:00:00.000000Z | 100.0 Hz, 360001 samples\n",
      "XM.A11E..HHN | 2013-01-20T00:00:00.000000Z - 2013-01-20T01:00:00.000000Z | 100.0 Hz, 360001 samples\n",
      "XM.A11E..HHZ | 2013-01-20T00:00:00.000000Z - 2013-01-20T01:00:00.000000Z | 100.0 Hz, 360001 samples\n",
      "XM.A12E..HHE | 2013-01-20T00:00:00.000000Z - 2013-01-20T01:00:00.000000Z | 100.0 Hz, 360001 samples\n",
      "XM.A12E..HHN | 2013-01-20T00:00:00.000000Z - 2013-01-20T01:00:00.000000Z | 100.0 Hz, 360001 samples\n",
      "XM.A12E..HHZ | 2013-01-20T00:00:00.000000Z - 2013-01-20T01:00:00.000000Z | 100.0 Hz, 360001 samples\n",
      "XM.A13E..HHE | 2013-01-20T00:00:00.000000Z - 2013-01-20T01:00:00.000000Z | 100.0 Hz, 360001 samples\n",
      "XM.A13E..HHN | 2013-01-20T00:00:00.000000Z - 2013-01-20T01:00:00.000000Z | 100.0 Hz, 360001 samples\n",
      "XM.A13E..HHZ | 2013-01-20T00:00:00.000000Z - 2013-01-20T01:00:00.000000Z | 100.0 Hz, 360001 samples\n"
     ]
    }
   ],
   "source": [
    "# Number of stations in the early 2013 (After one year)\n",
    "t = UTCDateTime(\"2013-01-20T00:00:00.000\")\n",
    "st = client.get_waveforms(\"XM\", \"A01E,A02E,A03E,A04E,A05E,A06E,A07E,A08E,A09E,A10E,A11E,A12E,A13E,A14E\", \"--\", \"HH*\", t, t + 60 * 60)\n",
    "print(st.__str__(extended=True))"
   ]
  },
  {
   "cell_type": "code",
   "execution_count": 8,
   "id": "98960195",
   "metadata": {},
   "outputs": [
    {
     "name": "stdout",
     "output_type": "stream",
     "text": [
      "33 Trace(s) in Stream:\n",
      "XM.A01E..HHE | 2014-01-20T00:00:00.000000Z - 2014-01-20T01:00:00.000000Z | 100.0 Hz, 360001 samples\n",
      "XM.A01E..HHN | 2014-01-20T00:00:00.000000Z - 2014-01-20T01:00:00.000000Z | 100.0 Hz, 360001 samples\n",
      "XM.A01E..HHZ | 2014-01-20T00:00:00.000000Z - 2014-01-20T01:00:00.000000Z | 100.0 Hz, 360001 samples\n",
      "XM.A03E..HHE | 2014-01-20T00:00:00.000000Z - 2014-01-20T01:00:00.000000Z | 100.0 Hz, 360001 samples\n",
      "XM.A03E..HHN | 2014-01-20T00:00:00.000000Z - 2014-01-20T01:00:00.000000Z | 100.0 Hz, 360001 samples\n",
      "XM.A03E..HHZ | 2014-01-20T00:00:00.000000Z - 2014-01-20T01:00:00.000000Z | 100.0 Hz, 360001 samples\n",
      "XM.A04E..HHE | 2014-01-20T00:00:00.000000Z - 2014-01-20T01:00:00.000000Z | 100.0 Hz, 360001 samples\n",
      "XM.A04E..HHN | 2014-01-20T00:00:00.000000Z - 2014-01-20T01:00:00.000000Z | 100.0 Hz, 360001 samples\n",
      "XM.A04E..HHZ | 2014-01-20T00:00:00.000000Z - 2014-01-20T01:00:00.000000Z | 100.0 Hz, 360001 samples\n",
      "XM.A05E..HHE | 2014-01-20T00:00:00.000000Z - 2014-01-20T01:00:00.000000Z | 100.0 Hz, 360001 samples\n",
      "XM.A05E..HHN | 2014-01-20T00:00:00.000000Z - 2014-01-20T01:00:00.000000Z | 100.0 Hz, 360001 samples\n",
      "XM.A05E..HHZ | 2014-01-20T00:00:00.000000Z - 2014-01-20T01:00:00.000000Z | 100.0 Hz, 360001 samples\n",
      "XM.A07E..HHE | 2014-01-20T00:00:00.000000Z - 2014-01-20T01:00:00.000000Z | 100.0 Hz, 360001 samples\n",
      "XM.A07E..HHN | 2014-01-20T00:00:00.000000Z - 2014-01-20T01:00:00.000000Z | 100.0 Hz, 360001 samples\n",
      "XM.A07E..HHZ | 2014-01-20T00:00:00.000000Z - 2014-01-20T01:00:00.000000Z | 100.0 Hz, 360001 samples\n",
      "XM.A09E..HHE | 2014-01-20T00:00:00.000000Z - 2014-01-20T01:00:00.000000Z | 100.0 Hz, 360001 samples\n",
      "XM.A09E..HHN | 2014-01-20T00:00:00.000000Z - 2014-01-20T01:00:00.000000Z | 100.0 Hz, 360001 samples\n",
      "XM.A09E..HHZ | 2014-01-20T00:00:00.000000Z - 2014-01-20T01:00:00.000000Z | 100.0 Hz, 360001 samples\n",
      "XM.A10E..HHE | 2014-01-20T00:00:00.000000Z - 2014-01-20T01:00:00.000000Z | 100.0 Hz, 360001 samples\n",
      "XM.A10E..HHN | 2014-01-20T00:00:00.000000Z - 2014-01-20T01:00:00.000000Z | 100.0 Hz, 360001 samples\n",
      "XM.A10E..HHZ | 2014-01-20T00:00:00.000000Z - 2014-01-20T01:00:00.000000Z | 100.0 Hz, 360001 samples\n",
      "XM.A11E..HHE | 2014-01-20T00:00:00.000000Z - 2014-01-20T01:00:00.000000Z | 100.0 Hz, 360001 samples\n",
      "XM.A11E..HHN | 2014-01-20T00:00:00.000000Z - 2014-01-20T01:00:00.000000Z | 100.0 Hz, 360001 samples\n",
      "XM.A11E..HHZ | 2014-01-20T00:00:00.000000Z - 2014-01-20T01:00:00.000000Z | 100.0 Hz, 360001 samples\n",
      "XM.A12E..HHE | 2014-01-20T00:00:00.000000Z - 2014-01-20T01:00:00.000000Z | 100.0 Hz, 360001 samples\n",
      "XM.A12E..HHN | 2014-01-20T00:00:00.000000Z - 2014-01-20T01:00:00.000000Z | 100.0 Hz, 360001 samples\n",
      "XM.A12E..HHZ | 2014-01-20T00:00:00.000000Z - 2014-01-20T01:00:00.000000Z | 100.0 Hz, 360001 samples\n",
      "XM.A13E..HHE | 2014-01-20T00:00:00.000000Z - 2014-01-20T01:00:00.000000Z | 100.0 Hz, 360001 samples\n",
      "XM.A13E..HHN | 2014-01-20T00:00:00.000000Z - 2014-01-20T01:00:00.000000Z | 100.0 Hz, 360001 samples\n",
      "XM.A13E..HHZ | 2014-01-20T00:00:00.000000Z - 2014-01-20T01:00:00.000000Z | 100.0 Hz, 360001 samples\n",
      "XM.A14E..HHE | 2014-01-20T00:00:00.000000Z - 2014-01-20T01:00:00.000000Z | 100.0 Hz, 360001 samples\n",
      "XM.A14E..HHN | 2014-01-20T00:00:00.000000Z - 2014-01-20T01:00:00.000000Z | 100.0 Hz, 360001 samples\n",
      "XM.A14E..HHZ | 2014-01-20T00:00:00.000000Z - 2014-01-20T01:00:00.000000Z | 100.0 Hz, 360001 samples\n"
     ]
    }
   ],
   "source": [
    "# Number of stations in the late of 2014 (After two years)\n",
    "t = UTCDateTime(\"2014-01-20T00:00:00.000\")\n",
    "st = client.get_waveforms(\"XM\", \"A01E,A02E,A03E,A04E,A05E,A06E,A07E,A08E,A09E,A10E,A11E,A12E,A13E,A14E\", \"--\", \"HH*\", t, t + 60 * 60)\n",
    "print(st.__str__(extended=True))"
   ]
  },
  {
   "cell_type": "code",
   "execution_count": 9,
   "id": "e1e8e029",
   "metadata": {
    "scrolled": false
   },
   "outputs": [
    {
     "name": "stdout",
     "output_type": "stream",
     "text": [
      "27 Trace(s) in Stream:\n",
      "XM.A01E..HHE | 2013-02-02T00:00:00.000000Z - 2013-02-02T01:00:00.000000Z | 100.0 Hz, 360001 samples\n",
      "XM.A01E..HHN | 2013-02-02T00:00:00.000000Z - 2013-02-02T01:00:00.000000Z | 100.0 Hz, 360001 samples\n",
      "XM.A01E..HHZ | 2013-02-02T00:00:00.000000Z - 2013-02-02T01:00:00.000000Z | 100.0 Hz, 360001 samples\n",
      "XM.A03E..HHE | 2013-02-02T00:00:00.000000Z - 2013-02-02T01:00:00.000000Z | 100.0 Hz, 360001 samples\n",
      "XM.A03E..HHN | 2013-02-02T00:00:00.000000Z - 2013-02-02T01:00:00.000000Z | 100.0 Hz, 360001 samples\n",
      "XM.A03E..HHZ | 2013-02-02T00:00:00.000000Z - 2013-02-02T01:00:00.000000Z | 100.0 Hz, 360001 samples\n",
      "XM.A05E..HHE | 2013-02-02T00:00:00.000000Z - 2013-02-02T01:00:00.000000Z | 100.0 Hz, 360001 samples\n",
      "XM.A05E..HHN | 2013-02-02T00:00:00.000000Z - 2013-02-02T01:00:00.000000Z | 100.0 Hz, 360001 samples\n",
      "XM.A05E..HHZ | 2013-02-02T00:00:00.000000Z - 2013-02-02T01:00:00.000000Z | 100.0 Hz, 360001 samples\n",
      "XM.A07E..HHE | 2013-02-02T00:00:00.000000Z - 2013-02-02T01:00:00.000000Z | 100.0 Hz, 360001 samples\n",
      "XM.A07E..HHN | 2013-02-02T00:00:00.000000Z - 2013-02-02T01:00:00.000000Z | 100.0 Hz, 360001 samples\n",
      "XM.A07E..HHZ | 2013-02-02T00:00:00.000000Z - 2013-02-02T01:00:00.000000Z | 100.0 Hz, 360001 samples\n",
      "XM.A09E..HHE | 2013-02-02T00:00:00.000000Z - 2013-02-02T01:00:00.000000Z | 100.0 Hz, 360001 samples\n",
      "XM.A09E..HHN | 2013-02-02T00:00:00.000000Z - 2013-02-02T01:00:00.000000Z | 100.0 Hz, 360001 samples\n",
      "XM.A09E..HHZ | 2013-02-02T00:00:00.000000Z - 2013-02-02T01:00:00.000000Z | 100.0 Hz, 360001 samples\n",
      "XM.A11E..HHE | 2013-02-02T00:00:00.000000Z - 2013-02-02T01:00:00.000000Z | 100.0 Hz, 360001 samples\n",
      "XM.A11E..HHN | 2013-02-02T00:00:00.000000Z - 2013-02-02T01:00:00.000000Z | 100.0 Hz, 360001 samples\n",
      "XM.A11E..HHZ | 2013-02-02T00:00:00.000000Z - 2013-02-02T01:00:00.000000Z | 100.0 Hz, 360001 samples\n",
      "XM.A12E..HHE | 2013-02-02T00:00:00.000000Z - 2013-02-02T01:00:00.000000Z | 100.0 Hz, 360001 samples\n",
      "XM.A12E..HHN | 2013-02-02T00:00:00.000000Z - 2013-02-02T01:00:00.000000Z | 100.0 Hz, 360001 samples\n",
      "XM.A12E..HHZ | 2013-02-02T00:00:00.000000Z - 2013-02-02T01:00:00.000000Z | 100.0 Hz, 360001 samples\n",
      "XM.A13E..HHE | 2013-02-02T00:00:00.000000Z - 2013-02-02T01:00:00.000000Z | 100.0 Hz, 360001 samples\n",
      "XM.A13E..HHN | 2013-02-02T00:00:00.000000Z - 2013-02-02T01:00:00.000000Z | 100.0 Hz, 360001 samples\n",
      "XM.A13E..HHZ | 2013-02-02T00:00:00.000000Z - 2013-02-02T01:00:00.000000Z | 100.0 Hz, 360001 samples\n",
      "XM.A14E..HHE | 2013-02-02T00:00:00.000000Z - 2013-02-02T01:00:00.000000Z | 100.0 Hz, 360001 samples\n",
      "XM.A14E..HHN | 2013-02-02T00:00:00.000000Z - 2013-02-02T01:00:00.000000Z | 100.0 Hz, 360001 samples\n",
      "XM.A14E..HHZ | 2013-02-02T00:00:00.000000Z - 2013-02-02T01:00:00.000000Z | 100.0 Hz, 360001 samples\n"
     ]
    }
   ],
   "source": [
    "# Number of stations, randomly selected date\n",
    "t = UTCDateTime(\"2013-02-02T00:00:00.000\")\n",
    "st = client.get_waveforms(\"XM\", \"A01E,A02E,A03E,A04E,A05E,A06E,A07E,A08E,A09E,A10E,A11E,A12E,A13E,A14E\", \"--\", \"HH*\", t, t + 60 * 60)\n",
    "print(st.__str__(extended=True))"
   ]
  },
  {
   "cell_type": "code",
   "execution_count": 10,
   "id": "a0d004f9",
   "metadata": {},
   "outputs": [
    {
     "data": {
      "text/plain": [
       "{'latitude': 7.78823,\n",
       " 'longitude': 38.78384,\n",
       " 'elevation': 1921.0,\n",
       " 'local_depth': 0.0}"
      ]
     },
     "execution_count": 10,
     "metadata": {},
     "output_type": "execute_result"
    }
   ],
   "source": [
    "inv = client.get_stations(network=\"XM\", station=\"A01E\", level=\"response\")\n",
    "t = UTCDateTime(\"2012-01-10\")\n",
    "inv.get_coordinates(\"XM.A01E..HHZ\", t)"
   ]
  },
  {
   "cell_type": "markdown",
   "id": "93e74275",
   "metadata": {},
   "source": [
    "I think there will be data gaps in particular with stations 2, 4, 6, 8. According to Matthew, A06E and A02E were relocated during the deployment (to become A13E and A14E respectively) due to noise and logistical consideration.\n",
    "## I would be grateful if you could guide me on this issue (which stations to remove...etc)"
   ]
  },
  {
   "cell_type": "markdown",
   "id": "4270524b",
   "metadata": {},
   "source": [
    "Velocity model: Can we adpot the velocity model developed by Wilks et.al (2017), Seismicity associated with magmatism, faulting and hydrothermal circulation at Aluto Volcano, Main Ethiopian Rift?"
   ]
  },
  {
   "cell_type": "code",
   "execution_count": null,
   "id": "6ad617e5",
   "metadata": {},
   "outputs": [],
   "source": []
  }
 ],
 "metadata": {
  "kernelspec": {
   "display_name": "Python 3 (ipykernel)",
   "language": "python",
   "name": "python3"
  },
  "language_info": {
   "codemirror_mode": {
    "name": "ipython",
    "version": 3
   },
   "file_extension": ".py",
   "mimetype": "text/x-python",
   "name": "python",
   "nbconvert_exporter": "python",
   "pygments_lexer": "ipython3",
   "version": "3.10.9"
  }
 },
 "nbformat": 4,
 "nbformat_minor": 5
}
